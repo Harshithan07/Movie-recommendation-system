{
 "cells": [
  {
   "cell_type": "code",
   "execution_count": null,
   "id": "3bcc5f15",
   "metadata": {},
   "outputs": [],
   "source": [
    "import numpy as np\n",
    "import pandas as pd"
   ]
  },
  {
   "cell_type": "code",
   "execution_count": null,
   "id": "bbed7a23",
   "metadata": {},
   "outputs": [],
   "source": [
    "# Reading the \"credits.csv\" file\n",
    "credits_df = pd.read_csv(\"credits.csv\")\n",
    "\n",
    "# Reading the \"movies.csv\" file\n",
    "movies_df = pd.read_csv(\"movies.csv\")"
   ]
  },
  {
   "cell_type": "code",
   "execution_count": null,
   "id": "0465746d",
   "metadata": {},
   "outputs": [],
   "source": [
    "credits_df"
   ]
  },
  {
   "cell_type": "code",
   "execution_count": null,
   "id": "d9844231",
   "metadata": {},
   "outputs": [],
   "source": [
    "movies_df"
   ]
  },
  {
   "cell_type": "code",
   "execution_count": null,
   "id": "b8851b21",
   "metadata": {},
   "outputs": [],
   "source": [
    "pd.set_option('display.max_columns',None)\n",
    "pd.set_option('display.max_rows',None)"
   ]
  },
  {
   "cell_type": "code",
   "execution_count": null,
   "id": "646fca7e",
   "metadata": {},
   "outputs": [],
   "source": [
    "movies_df = movies_df.merge(credits_df,on='title')"
   ]
  },
  {
   "cell_type": "code",
   "execution_count": null,
   "id": "02d36aa0",
   "metadata": {},
   "outputs": [],
   "source": [
    "movies_df.shape"
   ]
  },
  {
   "cell_type": "code",
   "execution_count": null,
   "id": "79575279",
   "metadata": {},
   "outputs": [],
   "source": [
    "movies_df.info()"
   ]
  },
  {
   "cell_type": "code",
   "execution_count": null,
   "id": "1089d9c9",
   "metadata": {},
   "outputs": [],
   "source": [
    "movies_df=movies_df[['movie_id','title','overview','genres','keywords','cast','crew']]"
   ]
  },
  {
   "cell_type": "code",
   "execution_count": null,
   "id": "34251545",
   "metadata": {},
   "outputs": [],
   "source": [
    "movies_df.isnull().sum()"
   ]
  },
  {
   "cell_type": "code",
   "execution_count": null,
   "id": "c7d4a69a",
   "metadata": {},
   "outputs": [],
   "source": [
    "movies_df.dropna(inplace=True)"
   ]
  },
  {
   "cell_type": "code",
   "execution_count": null,
   "id": "02f3d3c1",
   "metadata": {},
   "outputs": [],
   "source": [
    "movies_df.duplicated().sum()"
   ]
  },
  {
   "cell_type": "code",
   "execution_count": null,
   "id": "59485934",
   "metadata": {},
   "outputs": [],
   "source": [
    "movies_df.iloc[0].genres"
   ]
  },
  {
   "cell_type": "code",
   "execution_count": null,
   "id": "e33c1f5b",
   "metadata": {},
   "outputs": [],
   "source": [
    "import ast"
   ]
  },
  {
   "cell_type": "code",
   "execution_count": null,
   "id": "518dd8ed",
   "metadata": {},
   "outputs": [],
   "source": [
    "def Convert(obj):\n",
    "    L = []\n",
    "    for i in ast.literal_eval(obj):\n",
    "        L.append(i['name'])\n",
    "    return L"
   ]
  },
  {
   "cell_type": "code",
   "execution_count": null,
   "id": "cc427b9e",
   "metadata": {},
   "outputs": [],
   "source": [
    "movies_df['genres']=movies_df['genres'].apply(Convert)\n",
    "movies_df['keywords']=movies_df['keywords'].apply(Convert)"
   ]
  },
  {
   "cell_type": "code",
   "execution_count": null,
   "id": "fbc69bf0",
   "metadata": {},
   "outputs": [],
   "source": [
    "def Convert3 (obj) :\n",
    "  L = []\n",
    "  counter = 0\n",
    "  for i in ast.literal_eval(obj):\n",
    "    if counter != 3:\n",
    "      L.append(i['name'])\n",
    "      counter +=1\n",
    "    else :\n",
    "      break\n",
    "      return L"
   ]
  },
  {
   "cell_type": "code",
   "execution_count": null,
   "id": "89f10d75",
   "metadata": {},
   "outputs": [],
   "source": [
    "movies_df['cast']=movies_df['cast'].apply(Convert3)"
   ]
  },
  {
   "cell_type": "code",
   "execution_count": null,
   "id": "ea917d52",
   "metadata": {},
   "outputs": [],
   "source": [
    "def fetch_director (obj):\n",
    "  L = []\n",
    "  for i in ast.literal_eval(obj):\n",
    "    if i['job']=='Director':\n",
    "      L.append(i['name'])\n",
    "      return L"
   ]
  },
  {
   "cell_type": "code",
   "execution_count": null,
   "id": "03f9b59e",
   "metadata": {},
   "outputs": [],
   "source": [
    "movies_df['crew']=movies_df['crew'].apply(fetch_director)"
   ]
  },
  {
   "cell_type": "code",
   "execution_count": null,
   "id": "d441ed4a",
   "metadata": {},
   "outputs": [],
   "source": [
    "movies_df['genres'] = movies_df['genres'].apply(lambda x: [i.replace(\" \", \"\") for i in x])\n",
    "movies_df['keywords'] = movies_df['keywords'].apply(lambda x: [i.replace(\" \", \"\") for i in x])\n",
    "\n",
    "def replace_spaces(lst):\n",
    "    if lst is not None:\n",
    "        return [i.replace(\" \", \"\") for i in lst]\n",
    "    return lst\n",
    "\n",
    "movies_df['cast'] = movies_df['cast'].apply(replace_spaces)\n",
    "movies_df['crew'] = movies_df['crew'].apply(replace_spaces)"
   ]
  },
  {
   "cell_type": "code",
   "execution_count": null,
   "id": "aa3ea126",
   "metadata": {},
   "outputs": [],
   "source": [
    "def create_tag(row):\n",
    "    tag_elements = []\n",
    "\n",
    "    if isinstance(row['overview'], str):\n",
    "        tag_elements.append(row['overview'])\n",
    "\n",
    "    if isinstance(row['genres'], list):\n",
    "        tag_elements.extend(row['genres'])\n",
    "\n",
    "    if isinstance(row['keywords'], list):\n",
    "        tag_elements.extend(row['keywords'])\n",
    "\n",
    "    if isinstance(row['cast'], list):\n",
    "        tag_elements.extend(row['cast'])\n",
    "\n",
    "    if isinstance(row['crew'], list):\n",
    "        tag_elements.extend(row['crew'])\n",
    "\n",
    "    return ' '.join(tag_elements)\n",
    "\n",
    "movies_df['tag'] = movies_df.apply(create_tag, axis=1)"
   ]
  },
  {
   "cell_type": "code",
   "execution_count": null,
   "id": "4dc9a033",
   "metadata": {},
   "outputs": [],
   "source": [
    "new_df=movies_df[['movie_id','title','tag']]"
   ]
  },
  {
   "cell_type": "code",
   "execution_count": null,
   "id": "1a23e02b",
   "metadata": {},
   "outputs": [],
   "source": [
    "new_df\n"
   ]
  },
  {
   "cell_type": "code",
   "execution_count": null,
   "id": "0f310463",
   "metadata": {},
   "outputs": [],
   "source": [
    "new_df['tag']=new_df['tag'].apply(lambda x:x.lower())"
   ]
  },
  {
   "cell_type": "code",
   "execution_count": null,
   "id": "009bb183",
   "metadata": {},
   "outputs": [],
   "source": [
    "from sklearn.feature_extraction.text import CountVectorizer\n",
    "\n",
    "cv = CountVectorizer (max_features= 5000,stop_words= 'english')"
   ]
  },
  {
   "cell_type": "code",
   "execution_count": null,
   "id": "cc8cc80f",
   "metadata": {},
   "outputs": [],
   "source": [
    "tag_matrix = cv.fit_transform(new_df['tag']).toarray()\n",
    "tag_matrix.shape"
   ]
  },
  {
   "cell_type": "code",
   "execution_count": null,
   "id": "6886fe14",
   "metadata": {},
   "outputs": [],
   "source": [
    "vectors = tag_matrix"
   ]
  },
  {
   "cell_type": "code",
   "execution_count": null,
   "id": "9bd80832",
   "metadata": {},
   "outputs": [],
   "source": [
    "vectors[0]"
   ]
  },
  {
   "cell_type": "code",
   "execution_count": null,
   "id": "500cabfc",
   "metadata": {},
   "outputs": [],
   "source": [
    "feature_names = cv.get_feature_names_out()\n",
    "print(\"Number of features:\", len(feature_names))"
   ]
  },
  {
   "cell_type": "code",
   "execution_count": null,
   "id": "77a76918",
   "metadata": {},
   "outputs": [],
   "source": [
    "import nltk"
   ]
  },
  {
   "cell_type": "code",
   "execution_count": null,
   "id": "59c6d12f",
   "metadata": {},
   "outputs": [],
   "source": [
    "from nltk.stem.porter import PorterStemmer\n",
    "ps = PorterStemmer()"
   ]
  },
  {
   "cell_type": "code",
   "execution_count": null,
   "id": "697c6bf5",
   "metadata": {},
   "outputs": [],
   "source": [
    "def stem(text):\n",
    "  y=[]\n",
    "  for i in text.split():\n",
    "    y.append(ps.stem(i))\n",
    "    return \" \".join(y)"
   ]
  },
  {
   "cell_type": "code",
   "execution_count": null,
   "id": "e225a5cb",
   "metadata": {},
   "outputs": [],
   "source": [
    "new_df['tag']=new_df['tag'].apply(stem)"
   ]
  },
  {
   "cell_type": "code",
   "execution_count": null,
   "id": "bef830d2",
   "metadata": {},
   "outputs": [],
   "source": [
    "from sklearn.metrics.pairwise import cosine_similarity"
   ]
  },
  {
   "cell_type": "code",
   "execution_count": null,
   "id": "66ffb272",
   "metadata": {},
   "outputs": [],
   "source": [
    "cosine_similarity(vectors)"
   ]
  },
  {
   "cell_type": "code",
   "execution_count": null,
   "id": "44a80e5e",
   "metadata": {},
   "outputs": [],
   "source": [
    "cosine_similarity(vectors).shape"
   ]
  },
  {
   "cell_type": "code",
   "execution_count": null,
   "id": "3d36acc2",
   "metadata": {},
   "outputs": [],
   "source": [
    "similarity=cosine_similarity(vectors)"
   ]
  },
  {
   "cell_type": "code",
   "execution_count": null,
   "id": "f10f5d76",
   "metadata": {},
   "outputs": [],
   "source": [
    "similarity[0]"
   ]
  },
  {
   "cell_type": "code",
   "execution_count": null,
   "id": "d34c4da3",
   "metadata": {},
   "outputs": [],
   "source": [
    "similarity[0].shape"
   ]
  },
  {
   "cell_type": "code",
   "execution_count": null,
   "id": "68153d64",
   "metadata": {},
   "outputs": [],
   "source": [
    "sorted(list(enumerate(similarity[0])),reverse = True,key=lambda x:x[1])[1:6]"
   ]
  },
  {
   "cell_type": "code",
   "execution_count": null,
   "id": "a11e75ed",
   "metadata": {},
   "outputs": [],
   "source": [
    "def recommend (movie):\n",
    "  movie_index = new_df[new_df['title']==movie].index[0]\n",
    "  distance = similarity[movie_index]\n",
    "  movies_list=sorted(list(enumerate(distance)),reverse = True,key=lambda x:x[1])[1:6]\n",
    "\n",
    "  for i in movies_list:\n",
    "    print(new_df.iloc[i[0]].title)"
   ]
  },
  {
   "cell_type": "code",
   "execution_count": null,
   "id": "ebfd7b8c",
   "metadata": {
    "scrolled": true
   },
   "outputs": [],
   "source": [
    "recommend('Ant-Man')"
   ]
  },
  {
   "cell_type": "code",
   "execution_count": null,
   "id": "fe2530a0",
   "metadata": {},
   "outputs": [],
   "source": [
    "from flask_cors import CORS\n",
    "from flask import Flask, request, jsonify\n",
    "\n",
    "app = Flask(__name__)\n",
    "CORS(app)\n",
    "\n",
    "@app.route('/recommend', methods=['POST'])\n",
    "def get_recommendations():\n",
    "    try:\n",
    "        data = request.get_json()\n",
    "        movie = data.get('movie')\n",
    "\n",
    "        if movie is None:\n",
    "            return jsonify({'error': 'Movie parameter is missing'}), 400\n",
    "\n",
    "        # Call your recommendation function\n",
    "        recommendations = recommend(movie)\n",
    "\n",
    "        return jsonify({'recommendations': recommendations})\n",
    "\n",
    "    except Exception as e:\n",
    "        return jsonify({'error': str(e)}), 500\n",
    "\n",
    "if __name__ == '__main__':\n",
    "    app.run(host='0.0.0.0', port=5000, debug=True, use_reloader=False)\n"
   ]
  },
  {
   "cell_type": "code",
   "execution_count": null,
   "id": "7a238841",
   "metadata": {},
   "outputs": [],
   "source": []
  }
 ],
 "metadata": {
  "kernelspec": {
   "display_name": "Python 3 (ipykernel)",
   "language": "python",
   "name": "python3"
  },
  "language_info": {
   "codemirror_mode": {
    "name": "ipython",
    "version": 3
   },
   "file_extension": ".py",
   "mimetype": "text/x-python",
   "name": "python",
   "nbconvert_exporter": "python",
   "pygments_lexer": "ipython3",
   "version": "3.10.9"
  }
 },
 "nbformat": 4,
 "nbformat_minor": 5
}
